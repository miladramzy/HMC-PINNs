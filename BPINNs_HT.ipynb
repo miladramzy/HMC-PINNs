{
  "nbformat": 4,
  "nbformat_minor": 0,
  "metadata": {
    "colab": {
      "provenance": [],
      "gpuType": "T4",
      "authorship_tag": "ABX9TyPAGIhcezXChvKBppTbjQ59",
      "include_colab_link": true
    },
    "kernelspec": {
      "name": "python3",
      "display_name": "Python 3"
    },
    "language_info": {
      "name": "python"
    },
    "accelerator": "GPU"
  },
  "cells": [
    {
      "cell_type": "markdown",
      "metadata": {
        "id": "view-in-github",
        "colab_type": "text"
      },
      "source": [
        "<a href=\"https://colab.research.google.com/github/miladramzy/HMC-PINNs/blob/main/BPINNs_HT.ipynb\" target=\"_parent\"><img src=\"https://colab.research.google.com/assets/colab-badge.svg\" alt=\"Open In Colab\"/></a>"
      ]
    },
    {
      "cell_type": "markdown",
      "source": [
        "### Bayesian physics-informed neural netowrks using Hamiltonian Monte Carlo in composites autoclave processing\n",
        "This is a JAX implementation of BPINN model developed for curing composite materials. See below for more details:\n",
        "https://open.library.ubc.ca/soa/cIRcle/collections/ubctheses/24/items/1.0432643\n",
        "\n",
        "Milad Ramezankhani | https://miladramzy.github.io/\n"
      ],
      "metadata": {
        "id": "2Dw1EExcCqTv"
      }
    },
    {
      "cell_type": "code",
      "source": [
        "# Import libraries\n",
        "import jax\n",
        "import jax.numpy as np\n",
        "from jax import random, grad, vmap\n",
        "\n",
        "import tqdm\n",
        "import numpy as onp\n",
        "import pandas as pd\n",
        "from sklearn.preprocessing import MinMaxScaler\n",
        "from scipy.stats import qmc\n",
        "from matplotlib import pyplot as plt"
      ],
      "metadata": {
        "id": "2j6heefVzUfv"
      },
      "execution_count": 1,
      "outputs": []
    },
    {
      "cell_type": "code",
      "source": [
        "# Composites heat transfer with no internal heat generation\n",
        "\n",
        "# Load FE simulation data\n",
        "fn = 'BPINN_HT_Data.csv'\n",
        "part_length, nodes = 0.02, 41\n",
        "\n",
        "raw = pd.read_csv(fn)\n",
        "\n",
        "t =  np.array(raw['Time'].copy()) # Time (s) -- [T,1]\n",
        "x = np.linspace(0,part_length, num = nodes) # Generate the location (m) of n nodes -- [X,1]\n",
        "raw_np = np.array(raw)\n",
        "Temp = raw_np[:,1:] # Tempe in C (fist column is Time, removed) -- [T,X]\n",
        "Temp_k = Temp + 273 # Temperature in K [T,X]\n",
        "\n",
        "# Normalization\n",
        "scaler_x = 1/x.max()\n",
        "scaler_y = 1/t.max()\n",
        "x, t = x*scaler_x, t*scaler_y\n",
        "\n",
        "u = Temp.flatten('C')[:,None] # flatten Temp C\n",
        "u_k_flat = u + 273 # Temp in k\n",
        "\n",
        "T_scale = MinMaxScaler()\n",
        "Temp_k_norm = T_scale.fit_transform(u_k_flat)\n",
        "\n",
        "# Domain bounds\n",
        "x_lb, x_ub = x[0], x[-1]\n",
        "t_lb, t_ub = t[0], t[-1]\n",
        "lb = np.array([x_lb, t_lb])\n",
        "ub = np.array([x_ub, t_ub])\n",
        "\n",
        "X, T = np.meshgrid(x, t) # X: [T, X], T: [T, X]\n",
        "\n",
        "X = X.flatten()[:, None]\n",
        "T = T.flatten()[:, None]\n",
        "\n",
        "F = np.asarray(np.hstack([X, T]))\n",
        "U = np.asarray(Temp_k_norm)\n",
        "\n",
        "\"\"\"Specifiy material properties and heat transfer parameters\"\"\"\n",
        "k = 0.702 # (W/(m K))\n",
        "rho = 1581.26 # (kg/m3)\n",
        "Cp = 1080.2252 # (J/ (kg K))\n",
        "h_b = 50 # (W/(m^2 K))\n",
        "h_t = 100 # (W/(m^2 K))\n",
        "a =  k/(rho*Cp) # Thermal diffusivity in heat trasnfer PDE (m2 / s)\n",
        "a_c_normalized = a * ((scaler_x)**2)/scaler_y\n",
        "\n",
        "#%% IC, BC and collocation points\n",
        "\n",
        "# IC data\n",
        "train_ic_index = np.where(F[:,1]==0)[0]\n",
        "\n",
        "# BC data\n",
        "n_bc = 40\n",
        "step_bc = int(t.shape[0]/n_bc)\n",
        "indx_bc = onp.arange(0, t.shape[0]+1, step_bc)\n",
        "train_bc_index = onp.hstack([onp.where(onp.logical_and(onp.logical_or(F[:,0]==0, F[:,0]==1), F[:,1]==i))[0] for i in t[indx_bc]])\n",
        "\n",
        "# Collocation data\n",
        "n_f = 200\n",
        "engine = qmc.LatinHypercube(d=2)\n",
        "sample = engine.random(n=n_f)\n",
        "F_pde = lb + (ub-lb)*sample\n",
        "\n",
        "F_ic = F[train_ic_index,:]\n",
        "F_bc = F[train_bc_index,:]\n",
        "\n",
        "U_ic = U[train_ic_index]\n",
        "U_bc = U[train_bc_index]\n",
        "\n",
        "#%% Plot training points\n",
        "plt.plot(F_pde[:, 1], F_pde[:, 0], 'bo', label = 'Collocation')\n",
        "plt.plot(F_ic[:, 1], F_ic[:, 0], 'rx', label = 'Initial')\n",
        "plt.plot(F_bc[:, 1], F_bc[:, 0], 'gx', label = 'Boundary')\n",
        "\n",
        "#%% Specify data noise and corrosponding std\n",
        "def inv_softplus(x):\n",
        "    return np.log(np.exp(x) - 1)\n",
        "\n",
        "noise_std = 0.01 # Data noise\n",
        "invsp_noise_std = inv_softplus(noise_std)\n",
        "\n",
        "# Define neural network\n",
        "def MLP(layer_widths, activation=np.tanh):\n",
        "\n",
        "    def init( rng_key, scale=1e-2):\n",
        "        rng_key, *keys = jax.random.split(rng_key, len(layer_widths))\n",
        "        params = {}\n",
        "\n",
        "        w_count = len(layer_widths) - 1\n",
        "        layer_names = ['linear_'+ str(i) for i in range(w_count)]\n",
        "        for i, (n_in, n_out, key, name) in enumerate(zip(layer_widths[:-1], layer_widths[1:], keys, layer_names)):\n",
        "            key_w, key_b = jax.random.split(key)\n",
        "            layer = {}\n",
        "            # a) glorot initialization\n",
        "            glorot_stddev = 1.0 / np.sqrt((n_in + n_out) / 2.)\n",
        "            w = glorot_stddev * jax.random.normal(key_w, (n_in, n_out))\n",
        "            b = np.zeros((n_out,))\n",
        "            # b) Normal initialization\n",
        "            #w = scale * jax.random.normal(key_w, (n_in, n_out))\n",
        "            #b = scale * jax.random.normal(key_b, (n_out,))\n",
        "            layer['w'] = w\n",
        "            layer['b'] = b\n",
        "            params[name] = layer\n",
        "        return params\n",
        "\n",
        "    def apply(params, inputs):\n",
        "        params_flat = jax.tree_util.tree_flatten(params)[0]\n",
        "        params_flat_sub = [params_flat[x:x+2] for x in range(0, len(params_flat), 2)]\n",
        "\n",
        "        H, _= inputs\n",
        "        for b, W in params_flat_sub[:-1]:\n",
        "            outputs = np.dot(H, W) + b\n",
        "            H = activation(outputs)\n",
        "        b, W = params_flat_sub[-1]\n",
        "        outputs = np.dot(H, W) + b\n",
        "        outputs = np.concatenate([outputs, np.ones_like(outputs) * invsp_noise_std], -1)\n",
        "        return outputs\n",
        "    return init, apply\n",
        "\n",
        "# outputs network's prediction\n",
        "def predict(params, batch):\n",
        "    x, y = batch\n",
        "    new_batch = (x.reshape(-1,1), y)\n",
        "    outputs = net_apply(params, new_batch)\n",
        "    return outputs\n",
        "\n",
        "# outputs network's prediction as a value (not array)\n",
        "def neural_net(params, x, t):\n",
        "    z = np.hstack([x, t])\n",
        "    outputs = net_apply(params, (z, None))\n",
        "    outputs, _ = np.split(outputs, 2)\n",
        "    return outputs[0]\n",
        "\n",
        "# calculates the PDE loss\n",
        "def residual_net(params, x, t):\n",
        "    u_t = grad(neural_net, argnums=2)(params, x, t)\n",
        "    u_xx = grad(grad(neural_net, argnums = 1), argnums=1)(params, x, t)\n",
        "    f = u_t - a_c_normalized*u_xx\n",
        "    return f\n",
        "\n",
        "# vmap the functions\n",
        "u_pred_fn = vmap(neural_net, (None, 0, 0))\n",
        "r_pred_fn = vmap(residual_net, (None, 0, 0))\n"
      ],
      "metadata": {
        "colab": {
          "base_uri": "https://localhost:8080/",
          "height": 430
        },
        "id": "-cE7Vi6jzVuT",
        "outputId": "f24107a1-b926-40a9-99cd-715ee13cc237"
      },
      "execution_count": 2,
      "outputs": [
        {
          "output_type": "display_data",
          "data": {
            "text/plain": [
              "<Figure size 640x480 with 1 Axes>"
            ],
            "image/png": "[encoded data removed]"
          },
          "metadata": {}
        }
      ]
    },
    {
      "cell_type": "code",
      "source": [
        "# Model parameters\n",
        "\n",
        "# 1) Initialize the network\n",
        "d0 = 2 # Input dimension\n",
        "layers = [d0, 128, 128, 1] # 2 hidden layers\n",
        "key = random.PRNGKey(123456)\n",
        "key, sub_key = jax.random.split(key, 2)\n",
        "init, net_apply = MLP(layers, activation=np.tanh)\n",
        "params = init(rng_key = key)\n",
        "\n",
        "# 2) Specify uncertainty\n",
        "prior_std = 1e-2 # prior std of model parameters\n",
        "weight_decay = 1 / prior_std**2\n",
        "noise_std_ic = 0.0001 # noise std of IC data\n",
        "noise_std_bc = 0.0001 # noise std of BC data\n",
        "noise_pde_std = 0.001 # Certainty level about the known physics\n",
        "\n",
        "# 3) HMC trainig setting\n",
        "step_size = 1e-6\n",
        "num_iterations = 20\n",
        "trajectory_len = np.pi / 2 / np.sqrt(weight_decay) # From [https://arxiv.org/abs/2104.14421]\n",
        "max_num_leapfrog_steps = int(trajectory_len // step_size + 1)\n",
        "print(\"Leapfrog steps per iteration:\", max_num_leapfrog_steps)\n"
      ],
      "metadata": {
        "colab": {
          "base_uri": "https://localhost:8080/"
        },
        "id": "sp7eemiBzVxL",
        "outputId": "e4872d36-e9e3-49ad-b877-e1a618071a04"
      },
      "execution_count": 3,
      "outputs": [
        {
          "output_type": "stream",
          "name": "stdout",
          "text": [
            "Leapfrog steps per iteration: 15708\n"
          ]
        }
      ]
    },
    {
      "cell_type": "code",
      "execution_count": 4,
      "metadata": {
        "id": "kfVZql4v42Pa"
      },
      "outputs": [],
      "source": [
        "# HMC-PINNs\n",
        "# See here for HMC functions [https://github.com/google-research/google-research/tree/master/bnn_hmc]\n",
        "# ==================================================\n",
        "# prior ============================================\n",
        "# ==================================================\n",
        "# Function to do dot product between two pytrees\n",
        "def tree_dot(a, b):\n",
        "  return sum([np.sum(e1 * e2) for e1, e2 in\n",
        "              zip(jax.tree_util.tree_leaves(a), jax.tree_util.tree_leaves(b))])\n",
        "\n",
        "# Function returns two functions: log prior and log prior diff\n",
        "def make_gaussian_log_prior(weight_decay, temperature):\n",
        "  \"\"\"Returns the Gaussian log-density and delta given weight decay.\"\"\"\n",
        "\n",
        "  def log_prior(params):\n",
        "    \"\"\"Computes the Gaussian prior log-density.\"\"\"\n",
        "    # ToDo izmailovpavel: make temperature treatment the same as in gaussian\n",
        "    # likelihood function.\n",
        "    n_params = sum([p.size for p in jax.tree_util.tree_leaves(params)])\n",
        "    log_prob = -(0.5 * tree_dot(params, params) * weight_decay +\n",
        "                 0.5 * n_params * np.log(weight_decay / (2 * onp.pi)))\n",
        "    return log_prob / temperature\n",
        "\n",
        "  def log_prior_diff(params1, params2):\n",
        "    \"\"\"Computes the delta in  Gaussian prior log-density.\"\"\"\n",
        "    \"\"\"Usage: Accept probability function in HMC\"\"\"\n",
        "    diff = sum([\n",
        "        np.sum(p1**2 - p2**2)\n",
        "        for p1, p2 in zip(jax.tree_util.tree_leaves(params1), jax.tree_util.tree_leaves(params2))\n",
        "    ])\n",
        "    return -0.5 * weight_decay * diff / temperature\n",
        "\n",
        "  return log_prior, log_prior_diff\n",
        "\n",
        "log_prior_fn, log_prior_diff_fn = make_gaussian_log_prior(weight_decay, 1.)\n",
        "\n",
        "# ==================================================\n",
        "# Log likelihood ===================================\n",
        "# ==================================================\n",
        "def gaussian_log_likelihood(params):\n",
        "  \"\"\"Computes the negative log-likelihood.\n",
        "  It consists of 3 terms:\n",
        "    1) IC log likelihood: calculates the LL of IC data\n",
        "    2) BC log likelihood: calculates the LL of BC data\n",
        "    3) PDE log likelihood: calculates the LL of PDE data\n",
        "  \"\"\"\n",
        "\n",
        "  # IC loss\n",
        "  predictions = u_pred_fn(params, F_ic[:,0], F_ic[:,1]).reshape([-1,1])\n",
        "  tempered_std = np.ones(predictions.shape)*noise_std_ic\n",
        "  se = (predictions - U_ic)**2\n",
        "  log_likelihood = (-0.5 * se / tempered_std**2 - 0.5 * np.log(tempered_std**2 * 2 * onp.pi))\n",
        "  log_likelihood = np.sum(log_likelihood)\n",
        "\n",
        "  # BC loss\n",
        "  predictions_bc = u_pred_fn(params, F_bc[:,0], F_bc[:,1]).reshape([-1,1])\n",
        "  tempered_std_bc = np.ones(predictions_bc.shape)*noise_std_bc\n",
        "  bce = (predictions_bc - U_bc)**2\n",
        "  log_likelihood_bc = (-0.5 * bce / tempered_std_bc**2 - 0.5 * np.log(tempered_std_bc**2 * 2 * onp.pi))\n",
        "  log_likelihood_bc = np.sum(log_likelihood_bc)\n",
        "\n",
        "  # PDE loss (Governing laws)\n",
        "  res = r_pred_fn(params, F_pde[:,0], F_pde[:,1])\n",
        "  pde_std = np.ones(res.shape)*noise_pde_std\n",
        "  fe = (res)**2\n",
        "  log_likelihood_pde = (-0.5 * fe / pde_std**2 - 0.5 * np.log(pde_std**2 * 2 * onp.pi))\n",
        "  log_likelihood_pde = np.sum(log_likelihood_pde)\n",
        "\n",
        "  log_likelihood_total = log_likelihood + log_likelihood_pde + log_likelihood_bc\n",
        "\n",
        "  return log_likelihood_total, [log_likelihood, log_likelihood_pde, log_likelihood_bc]\n",
        "\n",
        "log_likelihood_fn = gaussian_log_likelihood\n",
        "\n",
        "# Prediction\n",
        "def get_predictions(params, x, t):\n",
        "\n",
        "   y = u_pred_fn(params, x, t)\n",
        "   noise_std = 0.0001\n",
        "   tempered_std = np.ones(y.shape)*noise_std\n",
        "   predictions = np.stack([y, tempered_std]).T\n",
        "   return predictions\n",
        "\n",
        "predict_fn = get_predictions\n",
        "\n",
        "# ==================================================\n",
        "# HMC functions ====================================\n",
        "# ==================================================\n",
        "\n",
        "def tree_add(a, b):\n",
        "  return jax.tree_util.tree_map(lambda e1, e2: e1+e2, a, b)\n",
        "\n",
        "target_accept_rate = 1.\n",
        "step_size_adaptation_speed = 0.\n",
        "\n",
        "def _first(xy):\n",
        "  return xy[0]\n",
        "\n",
        "def _second(xy):\n",
        "  return xy[1]\n",
        "\n",
        "def get_kinetic_energy_diff(momentum1, momentum2):\n",
        "  return sum([\n",
        "      0.5 * np.sum(m1**2 - m2**2)\n",
        "      for m1, m2 in zip(jax.tree_util.tree_leaves(momentum1), jax.tree_util.tree_leaves(momentum2))\n",
        "  ])\n",
        "\n",
        "def adapt_step_size(step_size, target_accept_rate, accept_prob,\n",
        "                    step_size_adaptation_speed):\n",
        "  log_factor = np.where(\n",
        "      np.logical_or(target_accept_rate <= 0, step_size_adaptation_speed <= 0),\n",
        "      0., step_size_adaptation_speed * (accept_prob - target_accept_rate))\n",
        "  return step_size * np.exp(log_factor)\n",
        "\n",
        "def normal_like_tree(a, key):\n",
        "  treedef = jax.tree_util.tree_structure(a)\n",
        "  num_vars = len(jax.tree_util.tree_leaves(a))\n",
        "  all_keys = jax.random.split(key, num=(num_vars + 1))\n",
        "  noise = jax.tree_map(lambda p, k: jax.random.normal(k, shape=p.shape), a,\n",
        "                            jax.tree_util.tree_unflatten(treedef, all_keys[1:]))\n",
        "  return noise, all_keys[0]\n",
        "\n",
        "def likelihood_prior_and_grads_fn(params):\n",
        "  loss_val_grad = jax.value_and_grad(log_likelihood_fn, has_aux=True, argnums=0)\n",
        "  (likelihood, ll_terms), likelihood_grad = loss_val_grad(params)\n",
        "  prior, prior_grad = jax.value_and_grad(log_prior_fn)(params)\n",
        "  return likelihood, likelihood_grad, prior, prior_grad, ll_terms\n",
        "\n",
        "def _perdevice_log_prob_and_grad(params):\n",
        "  likelihood, likelihood_grad, prior, prior_grad, ll_terms = (\n",
        "      likelihood_prior_and_grads_fn(params))\n",
        "  log_prob = likelihood + prior\n",
        "  grad = tree_add(likelihood_grad, prior_grad)\n",
        "  return log_prob, grad, likelihood, ll_terms\n",
        "\n",
        "def leapfrog(init_params, init_momentum, init_grad, step_size, n_leapfrog):\n",
        "\n",
        "  def _leapfrog_body(_, carry):\n",
        "    params, momentum, grad, _, _ = carry\n",
        "    momentum = jax.tree_map(lambda m, g: m + 0.5 * step_size * g, momentum, grad)\n",
        "    params = jax.tree_map(lambda s, m: s + m * step_size, params, momentum)\n",
        "    log_prob, grad, log_likelihood, ll_terms = _perdevice_log_prob_and_grad(params) # _perdevice_log_prob_and_grad\n",
        "    momentum = jax.tree_map(lambda m, g: m + 0.5 * step_size * g, momentum, grad)\n",
        "    return params, momentum, grad, log_prob, log_likelihood\n",
        "\n",
        "  init_vals = (init_params, init_momentum, init_grad, 0., 0.)\n",
        "  (new_params, new_momentum, new_grad, new_log_prob,\n",
        "   new_log_likelihood) = jax.lax.fori_loop(\n",
        "       np.zeros_like(n_leapfrog), n_leapfrog, _leapfrog_body, init_vals)\n",
        "  return (new_params, new_momentum, new_grad,\n",
        "          new_log_likelihood)\n",
        "\n",
        "def get_accept_prob(log_likelihood1, params1, momentum1, log_likelihood2,params2, momentum2):\n",
        "  energy_diff = get_kinetic_energy_diff(momentum1, momentum2)\n",
        "  energy_diff -= log_likelihood1 - log_likelihood2\n",
        "  energy_diff -= log_prior_diff_fn(params1, params2)\n",
        "  accept_prob = np.minimum(1., np.exp(energy_diff))\n",
        "  return accept_prob\n",
        "\n",
        "def adaptive_hmc_update(params,\n",
        "                        log_likelihood,\n",
        "                        state_grad,\n",
        "                        key,\n",
        "                        step_size,\n",
        "                        n_leapfrog_steps,\n",
        "                        target_accept_rate,\n",
        "                        step_size_adaptation_speed,\n",
        "                        do_mh_correction=True):\n",
        "\n",
        "  normal_key, uniform_key, jitter_key = jax.random.split(key, 3)\n",
        "  momentum, _ = normal_like_tree(params, normal_key)\n",
        "\n",
        "  new_params, new_momentum, new_grad, new_log_likelihood = (\n",
        "      leapfrog(params, momentum, state_grad, step_size,\n",
        "               n_leapfrog_steps))\n",
        "  accept_prob = get_accept_prob(log_likelihood, params, momentum,\n",
        "                                new_log_likelihood, new_params, new_momentum)\n",
        "  accepted = jax.random.uniform(uniform_key) < accept_prob\n",
        "\n",
        "  step_size = adapt_step_size(step_size, target_accept_rate, accept_prob,\n",
        "                              step_size_adaptation_speed)\n",
        "\n",
        "  if do_mh_correction:\n",
        "    params = jax.lax.cond(accepted, _first, _second, (new_params, params))\n",
        "    log_likelihood = np.where(accepted, new_log_likelihood, log_likelihood)\n",
        "    state_grad = jax.lax.cond(accepted, _first, _second,\n",
        "                              (new_grad, state_grad))\n",
        "  else:\n",
        "    params, log_likelihood, state_grad = (new_params, new_log_likelihood,\n",
        "                                          new_grad)\n",
        "  return (params, log_likelihood, state_grad, step_size,\n",
        "          accept_prob, accepted)\n",
        "\n",
        "def update(params, log_likelihood, state_grad, key,\n",
        "           step_size, trajectory_len, do_mh_correction):\n",
        "  n_leapfrog = np.array(np.ceil(trajectory_len / step_size), np.int32)\n",
        "  assert n_leapfrog <= max_num_leapfrog_steps, (\n",
        "      \"The trajectory length results in number of leapfrog steps {} which is \"\n",
        "      \"higher than max_n_leapfrog {}\".format(n_leapfrog,\n",
        "                                             max_num_leapfrog_steps))\n",
        "\n",
        "  key, = jax.random.split(key, 1)\n",
        "  (params, log_likelihood, state_grad, step_size, accept_prob,\n",
        "   accepted) = adaptive_hmc_update(\n",
        "       params,\n",
        "       log_likelihood,\n",
        "       state_grad,\n",
        "       key,\n",
        "       step_size,\n",
        "       n_leapfrog,\n",
        "       target_accept_rate=target_accept_rate,\n",
        "       step_size_adaptation_speed=step_size_adaptation_speed,\n",
        "       do_mh_correction=do_mh_correction)\n",
        "\n",
        "  return (params, log_likelihood, state_grad, step_size, key,\n",
        "          accept_prob, accepted)\n",
        "\n",
        "def get_log_prob_and_grad(params):\n",
        "\n",
        "  log_prob, grad, likelihood, ll_terms = _perdevice_log_prob_and_grad(params)\n",
        "\n",
        "  return (log_prob, grad, likelihood, ll_terms)"
      ]
    },
    {
      "cell_type": "code",
      "source": [
        "# Initialize log-prob and grad values\n",
        "log_prob, state_grad, log_likelihood, ll_terms = (get_log_prob_and_grad(params))\n",
        "key = jax.random.PRNGKey(0)\n",
        "\n",
        "# Log\n",
        "all_test_preds = []\n",
        "ll_data = []\n",
        "ll_pde = []\n",
        "ll_v = []\n",
        "\n",
        "# Training\n",
        "for iteration in tqdm.tqdm(range(num_iterations)):\n",
        "\n",
        "    (params, log_likelihood, state_grad, step_size, key,\n",
        "     accept_prob, accepted) = (\n",
        "        update(params, log_likelihood, state_grad,\n",
        "               key, step_size, trajectory_len, True))\n",
        "    _, _, _, ll_terms = (get_log_prob_and_grad(params))\n",
        "    ll1, ll2, ll3 = ll_terms\n",
        "    ll_data.append(ll1)\n",
        "    ll_pde.append(ll2)\n",
        "    ll_v.append(ll3)\n",
        "\n",
        "    # Evaluation\n",
        "    test_predictions = onp.asarray(predict_fn(params, F[:,0], F[:,1]))\n",
        "    if accepted:\n",
        "        all_test_preds.append(test_predictions)\n",
        "\n",
        "    print(\"It: {} \\n Accept P: {} \\t Accepted {} \\t Total: {} \\t LL: {} \\t LL_res: {} \\t LL_v: {}\".format(\n",
        "            iteration, accept_prob, accepted, log_likelihood, ll_terms[0], ll_terms[1], ll_terms[2]))\n"
      ],
      "metadata": {
        "colab": {
          "base_uri": "https://localhost:8080/"
        },
        "id": "LM1BS9IR5JpF",
        "outputId": "94736080-fb27-4b62-9ace-de8fe0dde5d9"
      },
      "execution_count": 5,
      "outputs": [
        {
          "output_type": "stream",
          "name": "stderr",
          "text": [
            "  5%|▌         | 1/20 [00:11<03:35, 11.32s/it]"
          ]
        },
        {
          "output_type": "stream",
          "name": "stdout",
          "text": [
            "It: 0 \n",
            " Accept P: 1.0 \t Accepted True \t Total: -246427952.0 \t LL: -95687672.0 \t LL_res: -39730892.0 \t LL_v: -111009392.0\n"
          ]
        },
        {
          "output_type": "stream",
          "name": "stderr",
          "text": [
            "\r 10%|█         | 2/20 [00:18<02:41,  8.99s/it]"
          ]
        },
        {
          "output_type": "stream",
          "name": "stdout",
          "text": [
            "It: 1 \n",
            " Accept P: 1.0 \t Accepted True \t Total: -17341204.0 \t LL: -854337.0625 \t LL_res: -6186670.5 \t LL_v: -10300194.0\n"
          ]
        },
        {
          "output_type": "stream",
          "name": "stderr",
          "text": [
            "\r 15%|█▌        | 3/20 [00:25<02:12,  7.78s/it]"
          ]
        },
        {
          "output_type": "stream",
          "name": "stdout",
          "text": [
            "It: 2 \n",
            " Accept P: 1.0 \t Accepted True \t Total: -7334434.5 \t LL: -296436.78125 \t LL_res: -4101648.5 \t LL_v: -2936355.0\n"
          ]
        },
        {
          "output_type": "stream",
          "name": "stderr",
          "text": [
            "\r 20%|██        | 4/20 [00:32<02:00,  7.55s/it]"
          ]
        },
        {
          "output_type": "stream",
          "name": "stdout",
          "text": [
            "It: 3 \n",
            " Accept P: 1.0 \t Accepted True \t Total: -1697033.5 \t LL: -38669.453125 \t LL_res: -577326.8125 \t LL_v: -1081037.5\n"
          ]
        },
        {
          "output_type": "stream",
          "name": "stderr",
          "text": [
            "\r 25%|██▌       | 5/20 [00:40<01:54,  7.66s/it]"
          ]
        },
        {
          "output_type": "stream",
          "name": "stdout",
          "text": [
            "It: 4 \n",
            " Accept P: 1.0 \t Accepted True \t Total: -967535.1875 \t LL: -76885.59375 \t LL_res: -310541.78125 \t LL_v: -580108.875\n"
          ]
        },
        {
          "output_type": "stream",
          "name": "stderr",
          "text": [
            "\r 30%|███       | 6/20 [00:47<01:44,  7.49s/it]"
          ]
        },
        {
          "output_type": "stream",
          "name": "stdout",
          "text": [
            "It: 5 \n",
            " Accept P: 1.0 \t Accepted True \t Total: -370687.625 \t LL: -15976.568359375 \t LL_res: -131520.265625 \t LL_v: -223190.828125\n"
          ]
        },
        {
          "output_type": "stream",
          "name": "stderr",
          "text": [
            "\r 35%|███▌      | 7/20 [00:54<01:37,  7.50s/it]"
          ]
        },
        {
          "output_type": "stream",
          "name": "stdout",
          "text": [
            "It: 6 \n",
            " Accept P: 1.0 \t Accepted True \t Total: -282620.0625 \t LL: -6659.50390625 \t LL_res: -92161.4296875 \t LL_v: -183798.71875\n"
          ]
        },
        {
          "output_type": "stream",
          "name": "stderr",
          "text": [
            "\r 40%|████      | 8/20 [01:00<01:24,  7.07s/it]"
          ]
        },
        {
          "output_type": "stream",
          "name": "stdout",
          "text": [
            "It: 7 \n",
            " Accept P: 1.0 \t Accepted True \t Total: -217234.25 \t LL: -7112.9111328125 \t LL_res: -40490.265625 \t LL_v: -169631.078125\n"
          ]
        },
        {
          "output_type": "stream",
          "name": "stderr",
          "text": [
            "\r 45%|████▌     | 9/20 [01:07<01:16,  7.00s/it]"
          ]
        },
        {
          "output_type": "stream",
          "name": "stdout",
          "text": [
            "It: 8 \n",
            " Accept P: 1.0 \t Accepted True \t Total: -204105.125 \t LL: -12338.9794921875 \t LL_res: -39948.3125 \t LL_v: -151817.6875\n"
          ]
        },
        {
          "output_type": "stream",
          "name": "stderr",
          "text": [
            "\r 50%|█████     | 10/20 [01:13<01:07,  6.74s/it]"
          ]
        },
        {
          "output_type": "stream",
          "name": "stdout",
          "text": [
            "It: 9 \n",
            " Accept P: 1.0 \t Accepted True \t Total: -190496.84375 \t LL: -5450.466796875 \t LL_res: -24961.99609375 \t LL_v: -160084.390625\n"
          ]
        },
        {
          "output_type": "stream",
          "name": "stderr",
          "text": [
            "\r 55%|█████▌    | 11/20 [01:22<01:05,  7.30s/it]"
          ]
        },
        {
          "output_type": "stream",
          "name": "stdout",
          "text": [
            "It: 10 \n",
            " Accept P: 1.0 \t Accepted True \t Total: -185944.1875 \t LL: -3513.708984375 \t LL_res: -24143.10546875 \t LL_v: -158287.375\n"
          ]
        },
        {
          "output_type": "stream",
          "name": "stderr",
          "text": [
            "\r 60%|██████    | 12/20 [01:33<01:06,  8.29s/it]"
          ]
        },
        {
          "output_type": "stream",
          "name": "stdout",
          "text": [
            "It: 11 \n",
            " Accept P: 1.0 \t Accepted True \t Total: -179887.390625 \t LL: -3879.406494140625 \t LL_res: -19439.857421875 \t LL_v: -156568.03125\n"
          ]
        },
        {
          "output_type": "stream",
          "name": "stderr",
          "text": [
            "\r 65%|██████▌   | 13/20 [01:39<00:54,  7.83s/it]"
          ]
        },
        {
          "output_type": "stream",
          "name": "stdout",
          "text": [
            "It: 12 \n",
            " Accept P: 0.007044089026749134 \t Accepted False \t Total: -179887.390625 \t LL: -3879.406494140625 \t LL_res: -19439.857421875 \t LL_v: -156568.03125\n"
          ]
        },
        {
          "output_type": "stream",
          "name": "stderr",
          "text": [
            "\r 70%|███████   | 14/20 [01:52<00:55,  9.32s/it]"
          ]
        },
        {
          "output_type": "stream",
          "name": "stdout",
          "text": [
            "It: 13 \n",
            " Accept P: 0.0006083347834646702 \t Accepted False \t Total: -179887.390625 \t LL: -3879.406494140625 \t LL_res: -19439.857421875 \t LL_v: -156568.03125\n"
          ]
        },
        {
          "output_type": "stream",
          "name": "stderr",
          "text": [
            "\r 75%|███████▌  | 15/20 [01:59<00:43,  8.66s/it]"
          ]
        },
        {
          "output_type": "stream",
          "name": "stdout",
          "text": [
            "It: 14 \n",
            " Accept P: 0.04823172464966774 \t Accepted False \t Total: -179887.390625 \t LL: -3879.406494140625 \t LL_res: -19439.857421875 \t LL_v: -156568.03125\n"
          ]
        },
        {
          "output_type": "stream",
          "name": "stderr",
          "text": [
            "\r 80%|████████  | 16/20 [02:05<00:31,  7.91s/it]"
          ]
        },
        {
          "output_type": "stream",
          "name": "stdout",
          "text": [
            "It: 15 \n",
            " Accept P: 6.9555094341922086e-06 \t Accepted False \t Total: -179887.390625 \t LL: -3879.406494140625 \t LL_res: -19439.857421875 \t LL_v: -156568.03125\n"
          ]
        },
        {
          "output_type": "stream",
          "name": "stderr",
          "text": [
            "\r 85%|████████▌ | 17/20 [02:12<00:23,  7.67s/it]"
          ]
        },
        {
          "output_type": "stream",
          "name": "stdout",
          "text": [
            "It: 16 \n",
            " Accept P: 1.0 \t Accepted True \t Total: -183910.671875 \t LL: -3464.919189453125 \t LL_res: -22290.62109375 \t LL_v: -158155.28125\n"
          ]
        },
        {
          "output_type": "stream",
          "name": "stderr",
          "text": [
            "\r 90%|█████████ | 18/20 [02:19<00:14,  7.33s/it]"
          ]
        },
        {
          "output_type": "stream",
          "name": "stdout",
          "text": [
            "It: 17 \n",
            " Accept P: 0.011250928044319153 \t Accepted False \t Total: -183910.671875 \t LL: -3464.919189453125 \t LL_res: -22290.62109375 \t LL_v: -158155.28125\n"
          ]
        },
        {
          "output_type": "stream",
          "name": "stderr",
          "text": [
            "\r 95%|█████████▌| 19/20 [02:26<00:07,  7.26s/it]"
          ]
        },
        {
          "output_type": "stream",
          "name": "stdout",
          "text": [
            "It: 18 \n",
            " Accept P: 1.580513344379142e-05 \t Accepted False \t Total: -183910.671875 \t LL: -3464.919189453125 \t LL_res: -22290.62109375 \t LL_v: -158155.28125\n"
          ]
        },
        {
          "output_type": "stream",
          "name": "stderr",
          "text": [
            "100%|██████████| 20/20 [02:33<00:00,  7.67s/it]"
          ]
        },
        {
          "output_type": "stream",
          "name": "stdout",
          "text": [
            "It: 19 \n",
            " Accept P: 1.0 \t Accepted True \t Total: -177691.703125 \t LL: -4117.42431640625 \t LL_res: -18081.80078125 \t LL_v: -155492.484375\n"
          ]
        },
        {
          "output_type": "stream",
          "name": "stderr",
          "text": [
            "\n"
          ]
        }
      ]
    },
    {
      "cell_type": "code",
      "source": [
        "# Evaluation\n",
        "u_pred = u_pred_fn(params, F[:,0], F[:,1])\n",
        "u_pred_v = u_pred.reshape([-1,1])\n",
        "error = np.linalg.norm(u_pred_v - U) / np.linalg.norm(U)\n",
        "print('Relative l2 error: {:.3e}'.format(error))\n",
        "\n",
        "# Plot the prediction\n",
        "pl = x[20]   # part length location\n",
        "\n",
        "for pred in all_test_preds[2:-1]: # Ignore the first two samples\n",
        "    plt.plot(F[F[:,0]==pl][:,1], pred[:,0][F[:,0]==pl], alpha=0.5, color = 'dimgray')\n",
        "\n",
        "plt.plot(F[F[:,0]==pl][:,1], all_test_preds[-1][:,0][F[:,0]==pl], alpha=0.5, color = 'dimgray', label = 'Prediction')\n",
        "plt.plot(F[F[:,0]==pl][:,1], U[F[:,0]==pl], '--', alpha = 1, c = 'red', lw= 1, label = 'FE')\n",
        "plt.legend()\n"
      ],
      "metadata": {
        "colab": {
          "base_uri": "https://localhost:8080/",
          "height": 466
        },
        "id": "Am0jduUJB4-s",
        "outputId": "53ecc766-f539-4892-bec7-f2e91cf6cc8a"
      },
      "execution_count": 21,
      "outputs": [
        {
          "output_type": "stream",
          "name": "stdout",
          "text": [
            "Relative l2 error: 7.185e-03\n"
          ]
        },
        {
          "output_type": "execute_result",
          "data": {
            "text/plain": [
              "<matplotlib.legend.Legend at 0x79e84ae7b910>"
            ]
          },
          "metadata": {},
          "execution_count": 21
        },
        {
          "output_type": "display_data",
          "data": {
            "text/plain": [
              "<Figure size 640x480 with 1 Axes>"
            ],
            "image/png": "[encoded data removed]"
          },
          "metadata": {}
        }
      ]
    }
  ]
}